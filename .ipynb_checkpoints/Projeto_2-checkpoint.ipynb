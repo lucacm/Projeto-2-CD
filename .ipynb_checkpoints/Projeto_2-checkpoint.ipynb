{
 "cells": [
  {
   "cell_type": "markdown",
   "metadata": {},
   "source": [
    "# Projeto 2 - Ciência dos Dados"
   ]
  },
  {
   "cell_type": "markdown",
   "metadata": {},
   "source": [
    "Nome: Thomas Bekhor\n",
    "\n",
    "Nome: Luca Machado"
   ]
  },
  {
   "cell_type": "markdown",
   "metadata": {},
   "source": [
    "___\n",
    "# Classificador automático de sentimento\n"
   ]
  },
  {
   "cell_type": "markdown",
   "metadata": {},
   "source": [
    "## Preparando o ambiente no jupyter:"
   ]
  },
  {
   "cell_type": "code",
   "execution_count": 1,
   "metadata": {},
   "outputs": [],
   "source": [
    "%%capture\n",
    "\n",
    "#Instalando o tweepy\n",
    "!pip install tweepy"
   ]
  },
  {
   "cell_type": "code",
   "execution_count": 2,
   "metadata": {
    "jupyter": {
     "outputs_hidden": true
    }
   },
   "outputs": [],
   "source": [
    "import tweepy\n",
    "import math\n",
    "import os.path\n",
    "import pandas as pd\n",
    "import json\n",
    "from random import shuffle\n",
    "from IPython.display import display\n",
    "pd.options.display.max_rows = 13"
   ]
  },
  {
   "cell_type": "markdown",
   "metadata": {},
   "source": [
    "___\n",
    "## Autenticando no  Twitter\n",
    "\n",
    "* Conta: ***[Preencha aqui o id da sua conta. Ex: @fulano ]***"
   ]
  },
  {
   "cell_type": "code",
   "execution_count": 3,
   "metadata": {
    "jupyter": {
     "outputs_hidden": true
    }
   },
   "outputs": [],
   "source": [
    "#Dados de autenticação do twitter:\n",
    "\n",
    "#Coloque aqui o identificador da conta no twitter: @fulano\n",
    "\n",
    "#leitura do arquivo no formato JSON\n",
    "with open('auth.pass') as fp:    \n",
    "    data = json.load(fp)\n",
    "\n",
    "#Configurando a biblioteca. Não modificar\n",
    "auth = tweepy.OAuthHandler(data['consumer_key'], data['consumer_secret'])\n",
    "auth.set_access_token(data['access_token'], data['access_token_secret'])"
   ]
  },
  {
   "cell_type": "markdown",
   "metadata": {},
   "source": [
    "___\n",
    "## Etapas do projeto:"
   ]
  },
  {
   "cell_type": "markdown",
   "metadata": {},
   "source": [
    "### Escolha de um produto e coleta das mensagens\n"
   ]
  },
  {
   "cell_type": "code",
   "execution_count": 32,
   "metadata": {
    "jupyter": {
     "outputs_hidden": true
    }
   },
   "outputs": [],
   "source": [
    "#Produto escolhido:\n",
    "produto = \"Uber\"\n",
    "\n",
    "#Quantidade mínima de mensagens capturadas:\n",
    "n = 590\n",
    "#Quantidade mínima de mensagens para a base de treinamento:\n",
    "t = 300\n",
    "\n",
    "#Filtro de língua, escolha uma na tabela ISO 639-1.\n",
    "lang = 'pt'"
   ]
  },
  {
   "cell_type": "markdown",
   "metadata": {},
   "source": [
    "Capturando os dados do twitter:"
   ]
  },
  {
   "cell_type": "code",
   "execution_count": 33,
   "metadata": {
    "jupyter": {
     "outputs_hidden": true
    }
   },
   "outputs": [],
   "source": [
    "#Cria um objeto para a captura\n",
    "api = tweepy.API(auth)\n",
    "\n",
    "#Inicia a captura, para mais detalhes: ver a documentação do tweepy\n",
    "i = 1\n",
    "msgs = []\n",
    "for msg in tweepy.Cursor(api.search, q=produto, lang=lang, tweet_mode=\"extended\").items():    \n",
    "    msgs.append(msg.full_text.lower())\n",
    "    i += 1\n",
    "    if i > n:\n",
    "        break\n",
    "\n",
    "#Embaralhando as mensagens para reduzir um possível viés\n",
    "msgs = list(dict.fromkeys(msgs))\n",
    "shuffle(msgs)\n"
   ]
  },
  {
   "cell_type": "markdown",
   "metadata": {},
   "source": [
    "Salvando os dados em uma planilha Excel:"
   ]
  },
  {
   "cell_type": "code",
   "execution_count": 34,
   "metadata": {
    "jupyter": {
     "outputs_hidden": true
    }
   },
   "outputs": [],
   "source": [
    "#Verifica se o arquivo não existe para não substituir um conjunto pronto\n",
    "if not os.path.isfile('./{0}.xlsx'.format(produto)):\n",
    "    \n",
    "    #Abre o arquivo para escrita\n",
    "    writer = pd.ExcelWriter('{0}.xlsx'.format(produto))\n",
    "\n",
    "    #divide o conjunto de mensagens em duas planilhas\n",
    "    dft = pd.DataFrame({'Treinamento' : pd.Series(msgs[:t])})\n",
    "    dft.to_excel(excel_writer = writer, sheet_name = 'Treinamento', index = False)\n",
    "\n",
    "    dfc = pd.DataFrame({'Teste' : pd.Series(msgs[t:])})\n",
    "    dfc.to_excel(excel_writer = writer, sheet_name = 'Teste', index = False)\n",
    "    \n",
    "    #fecha o arquivo\n",
    "    writer.save()\n",
    "    "
   ]
  },
  {
   "cell_type": "markdown",
   "metadata": {},
   "source": [
    "___\n",
    "### Classificando as mensagens na coragem\n",
    "\n",
    "Esta etapa é manual. Faça a mesma pelo Excel."
   ]
  },
  {
   "cell_type": "markdown",
   "metadata": {},
   "source": [
    "# 1=RELEVANTE\n",
    "# 2=IRRELEVANTE"
   ]
  },
  {
   "cell_type": "markdown",
   "metadata": {},
   "source": [
    "___\n",
    "### Montando o Classificador Naive-Bayes\n",
    "\n",
    "Considerando apenas as mensagens da planilha Treinamento, ensine  seu classificador."
   ]
  },
  {
   "cell_type": "code",
   "execution_count": 4,
   "metadata": {},
   "outputs": [],
   "source": [
    "import re \n",
    "\n",
    "\n",
    "def cleanup(text):\n",
    "    \"\"\"\n",
    "        Função de limpeza muito simples que troca alguns sinais básicos por espaços\n",
    "    \"\"\"\n",
    "    import string\n",
    "    punctuation = '[!-.:?;]' # Note que os sinais [] são delimitadores de um conjunto.\n",
    "    pattern = re.compile(punctuation)\n",
    "    text_subbed = re.sub(pattern, ' ', text)\n",
    "    return text_subbed"
   ]
  },
  {
   "cell_type": "code",
   "execution_count": 5,
   "metadata": {},
   "outputs": [],
   "source": [
    "#lendo cada planilha separadamente do excel\n",
    "twitter_treinamento = pd.read_excel(io=\"./Uber.xlsx\",sheet_name=\"Treinamento\")\n",
    "twitter_teste = pd.read_excel(io=\"./Uber.xlsx\",sheet_name=\"Teste\")\n",
    "\n",
    "#aplicando a função cleanup no \"Teste\" e tirando as maiúsculas\n",
    "twitter_teste[\"Teste s/ pont.\"] = twitter_teste[\"Teste\"].apply(cleanup)\n",
    "twitter_teste=twitter_teste.drop(columns=\"Teste\")\n",
    "twitter_teste=twitter_teste[[\"Teste s/ pont.\", \"Relevância\"]]\n",
    "twitter_teste[\"Teste s/ pont.\"]=twitter_teste[\"Teste s/ pont.\"].str.lower()\n",
    "\n",
    "#aplicando a função cleanup no \"Treinamento\"  e tirando as maiúsculas\n",
    "twitter_treinamento[\"Treinamento s/ pont.\"] = twitter_treinamento[\"Treinamento\"].apply(cleanup)\n",
    "twitter_treinamento=twitter_treinamento.drop(columns=\"Treinamento\")\n",
    "twitter_treinamento=twitter_treinamento[[\"Treinamento s/ pont.\", \"Relevância\"]]\n",
    "twitter_treinamento[\"Treinamento s/ pont.\"]=twitter_treinamento[\"Treinamento s/ pont.\"].str.lower()\n",
    "\n"
   ]
  },
  {
   "cell_type": "code",
   "execution_count": 29,
   "metadata": {},
   "outputs": [
    {
     "name": "stdout",
     "output_type": "stream",
     "text": [
      "5664\n"
     ]
    }
   ],
   "source": [
    "#separando as palaras numa lista só\n",
    "series_treinamento=[]\n",
    "for i in twitter_treinamento[\"Treinamento s/ pont.\"]:\n",
    "    for n in i.split():\n",
    "        series_treinamento.append(n)\n",
    "series_treinamento\n",
    "\n",
    "#separando as palavras para os relevantes\n",
    "series_treinamento_rel=[]\n",
    "for i in twitter_treinamento[twitter_treinamento[\"Relevância\"]==1][\"Treinamento s/ pont.\"]:\n",
    "    for n in i.split():\n",
    "        series_treinamento_rel.append(n)\n",
    "\n",
    "#separando as palavras para os não relevantes\n",
    "series_treinamento_nrel=[]\n",
    "for i in twitter_treinamento[twitter_treinamento[\"Relevância\"]==0][\"Treinamento s/ pont.\"]:\n",
    "    for n in i.split():\n",
    "        series_treinamento_nrel.append(n)\n",
    "print(len(series_treinamento))"
   ]
  },
  {
   "cell_type": "code",
   "execution_count": 63,
   "metadata": {},
   "outputs": [
    {
     "data": {
      "text/plain": [
       "0.0008605851979345956"
      ]
     },
     "execution_count": 63,
     "metadata": {},
     "output_type": "execute_result"
    }
   ],
   "source": [
    "#frequencia relativa nao relevantes\n",
    "frame_rel=pd.Series(series_treinamento_rel)\n",
    "frame_rel_relativo=frame_rel.value_counts(True)\n",
    "\n",
    "#frequencia relativa relevantes\n",
    "frame_nrel=pd.Series(series_treinamento_nrel)\n",
    "frame_nrel_relativo=frame_nrel.value_counts(True)\n",
    "\n",
    "#frequencia relativa total\n",
    "frame_total=pd.Series(series_treinamento)\n",
    "frame_total_relativo=frame_total.value_counts(True)\n",
    "frame_rel_relativo[\"cu\"]"
   ]
  },
  {
   "cell_type": "markdown",
   "metadata": {},
   "source": [
    "___\n",
    "### Verificando a performance\n",
    "\n",
    "Agora você deve testar o seu classificador com a base de Testes."
   ]
  },
  {
   "cell_type": "markdown",
   "metadata": {},
   "source": [
    "$P(relevante|frase) > P(irrelevante|frase)$"
   ]
  },
  {
   "cell_type": "markdown",
   "metadata": {},
   "source": [
    "$P(relevante|frase) = \\frac{P(palavra1|relevante).P(palavra2|relevante).P(palavra3|relevante).P(relevante)}{P(frase)}$"
   ]
  },
  {
   "cell_type": "markdown",
   "metadata": {},
   "source": [
    "$P(irrelevante|frase) = \\frac{P(palavra1|irrelevante).P(palavra2|irrelevante).P(palavra3|irrelevante).P(irrelevante)}{P(frase)}$"
   ]
  },
  {
   "cell_type": "markdown",
   "metadata": {},
   "source": [
    "# logo\n",
    "$P(relevante|frase)> P(irrelevante|frase)$ =\n",
    "$\\frac{P(palavra1|relevante).P(palavra2|relevante).P(palavra3|relevante).P(relevante)}{P(frase)}$ > $\\frac{P(palavra1|irrelevante).P(palavra2|irrelevante).P(palavra3|irrelevante).P(irrelevante)}{P(frase)}$"
   ]
  },
  {
   "cell_type": "code",
   "execution_count": 88,
   "metadata": {},
   "outputs": [
    {
     "ename": "AttributeError",
     "evalue": "'float' object has no attribute 'split'",
     "output_type": "error",
     "traceback": [
      "\u001b[0;31m---------------------------------------------------------------------------\u001b[0m",
      "\u001b[0;31mAttributeError\u001b[0m                            Traceback (most recent call last)",
      "\u001b[0;32m<ipython-input-88-47b7c33d3ab7>\u001b[0m in \u001b[0;36m<module>\u001b[0;34m\u001b[0m\n\u001b[1;32m     10\u001b[0m     \u001b[0mprf\u001b[0m\u001b[0;34m=\u001b[0m\u001b[0;36m1\u001b[0m\u001b[0;34m\u001b[0m\u001b[0;34m\u001b[0m\u001b[0m\n\u001b[1;32m     11\u001b[0m     \u001b[0mpif\u001b[0m\u001b[0;34m=\u001b[0m\u001b[0;36m1\u001b[0m\u001b[0;34m\u001b[0m\u001b[0;34m\u001b[0m\u001b[0m\n\u001b[0;32m---> 12\u001b[0;31m     \u001b[0;32mfor\u001b[0m \u001b[0mn\u001b[0m \u001b[0;32min\u001b[0m \u001b[0mi\u001b[0m\u001b[0;34m.\u001b[0m\u001b[0msplit\u001b[0m\u001b[0;34m(\u001b[0m\u001b[0;34m)\u001b[0m\u001b[0;34m:\u001b[0m\u001b[0;34m\u001b[0m\u001b[0;34m\u001b[0m\u001b[0m\n\u001b[0m\u001b[1;32m     13\u001b[0m         \u001b[0;32mif\u001b[0m \u001b[0mn\u001b[0m \u001b[0;32min\u001b[0m \u001b[0mframe_rel\u001b[0m\u001b[0;34m:\u001b[0m\u001b[0;34m\u001b[0m\u001b[0;34m\u001b[0m\u001b[0m\n\u001b[1;32m     14\u001b[0m             \u001b[0mprf\u001b[0m\u001b[0;34m=\u001b[0m\u001b[0mprf\u001b[0m\u001b[0;34m*\u001b[0m\u001b[0mprob_relevante\u001b[0m\u001b[0;34m*\u001b[0m\u001b[0mframe_rel_relativo\u001b[0m\u001b[0;34m[\u001b[0m\u001b[0mn\u001b[0m\u001b[0;34m]\u001b[0m\u001b[0;34m\u001b[0m\u001b[0;34m\u001b[0m\u001b[0m\n",
      "\u001b[0;31mAttributeError\u001b[0m: 'float' object has no attribute 'split'"
     ]
    }
   ],
   "source": [
    "series_teste=[]\n",
    "for i in twitter_teste[\"Teste s/ pont.\"]:\n",
    "    series_teste.append(i)\n",
    "\n",
    "#twitter_teste[\"Verificação\"]=0\n",
    "prob_relevante=117/300\n",
    "prob_nrelevante=183/300\n",
    "\n",
    "for i in series_teste:\n",
    "    prf=1\n",
    "    pif=1\n",
    "    for n in i.split():\n",
    "        if n in frame_rel:\n",
    "            prf=prf*prob_relevante*frame_rel_relativo[n]\n",
    "        if n in frame_nrel:\n",
    "            pif=pif*prob_nrelevante*frame_nrel_relativo[n]\n",
    "        else:\n",
    "            prf=prf\n",
    "            pif=pif\n",
    "    if prf>pif:\n",
    "        twitter_teste.loc[i, \"Verificação\"]=1\n",
    "    else: \n",
    "        twitter_teste.loc[i, \"Verificação\"]=0\n",
    "twitter_teste"
   ]
  },
  {
   "cell_type": "code",
   "execution_count": 53,
   "metadata": {},
   "outputs": [
    {
     "ename": "SyntaxError",
     "evalue": "invalid syntax (<ipython-input-53-cd2cad1a9b9f>, line 8)",
     "output_type": "error",
     "traceback": [
      "\u001b[0;36m  File \u001b[0;32m\"<ipython-input-53-cd2cad1a9b9f>\"\u001b[0;36m, line \u001b[0;32m8\u001b[0m\n\u001b[0;31m    if twitter_teste[\"Teste s/ pont.\"][\"Relevância\"]==1\u001b[0m\n\u001b[0m                                                       ^\u001b[0m\n\u001b[0;31mSyntaxError\u001b[0m\u001b[0;31m:\u001b[0m invalid syntax\n"
     ]
    }
   ],
   "source": [
    "series_teste=[]\n",
    "for i in twitter_teste[\"Teste s/ pont.\"]:\n",
    "    series_teste.append(i)\n",
    "series_teste\n",
    "\n",
    "for i in series_teste:\n",
    "    for n in i.split():\n",
    "        if twitter_teste[\"Teste s/ pont.\"][\"Relevância\"]==1\n",
    "            for f in frame_rel_relativo[0:50]:\n",
    "                if n==f:\n",
    "                    twitter_teste[\"Verificação\"]=1\n",
    "                else:\n",
    "                    twitter_teste[\"Verificação\"]=0\n",
    "        else:\n",
    "            for f in frame_nrel_relativo[0:50]:\n",
    "                if n==f:\n",
    "                    twitter_teste[\"Verificação\"]=1\n",
    "                else:\n",
    "                    twitter_teste[\"Verificação\"]=0\n",
    "twitter_teste\n",
    "        \n",
    "#         for f in frame_nrel_relativo[0:50]:\n",
    "#             if n==f:\n",
    "#                 twitter_teste[\"Verificação\"]=1\n",
    "#             else:\n",
    "#                 twitter_teste[\"Verificação\"]=0\n",
    "\n",
    "\n",
    "# for i in twitter_teste[twitter_teste[\"Relevância\"]==1][\"Teste s/ pont.\"]:\n",
    "#     for n in i.split():\n",
    "#         for f in frame_rel_relativo[0:50]:\n",
    "#             if n==f:\n",
    "#                 twitter_teste[\"Verificação\"]=1\n",
    "#             else:\n",
    "#                 twitter_teste[\"Verificação\"]=0\n"
   ]
  },
  {
   "cell_type": "markdown",
   "metadata": {},
   "source": [
    "___\n",
    "### Concluindo"
   ]
  },
  {
   "cell_type": "code",
   "execution_count": null,
   "metadata": {},
   "outputs": [],
   "source": []
  },
  {
   "cell_type": "code",
   "execution_count": null,
   "metadata": {},
   "outputs": [],
   "source": []
  },
  {
   "cell_type": "markdown",
   "metadata": {},
   "source": [
    "## Aperfeiçoamento:\n",
    "\n",
    "Os trabalhos vão evoluir em conceito dependendo da quantidade de itens avançados:\n",
    "\n",
    "* Limpar: \\n, :, \", ', (, ), etc SEM remover emojis\n",
    "* Corrigir separação de espaços entre palavras e emojis ou emojis e emojis\n",
    "* Propor outras limpezas e transformações que não afetem a qualidade da informação ou classificação\n",
    "* Criar categorias intermediárias de relevância baseadas na probabilidade: ex.: muito relevante, relevante, neutro, irrelevante, muito irrelevante (3 categorias: C, mais categorias conta para B)\n",
    "* Explicar por que não posso usar o próprio classificador para gerar mais amostras de treinamento\n",
    "* Propor diferentes cenários para Naïve Bayes fora do contexto do projeto\n",
    "* Sugerir e explicar melhorias reais com indicações concretas de como implementar (indicar como fazer e indicar material de pesquisa)\n",
    "* Montar um dashboard que periodicamente realiza análise de sentimento e visualiza estes dados"
   ]
  },
  {
   "cell_type": "markdown",
   "metadata": {},
   "source": [
    "# Referências"
   ]
  },
  {
   "cell_type": "markdown",
   "metadata": {},
   "source": [
    "[Naive Bayes and Text Classification](https://arxiv.org/pdf/1410.5329.pdf)  **Mais completo**\n",
    "\n",
    "[A practical explanation of a Naive Bayes Classifier](https://monkeylearn.com/blog/practical-explanation-naive-bayes-classifier/) **Mais simples**"
   ]
  },
  {
   "cell_type": "code",
   "execution_count": null,
   "metadata": {},
   "outputs": [],
   "source": []
  }
 ],
 "metadata": {
  "kernelspec": {
   "display_name": "Python 3",
   "language": "python",
   "name": "python3"
  },
  "language_info": {
   "codemirror_mode": {
    "name": "ipython",
    "version": 3
   },
   "file_extension": ".py",
   "mimetype": "text/x-python",
   "name": "python",
   "nbconvert_exporter": "python",
   "pygments_lexer": "ipython3",
   "version": "3.7.1"
  }
 },
 "nbformat": 4,
 "nbformat_minor": 4
}
